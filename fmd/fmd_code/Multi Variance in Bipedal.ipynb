{
 "cells": [
  {
   "cell_type": "code",
   "execution_count": 1,
   "id": "warming-moore",
   "metadata": {},
   "outputs": [
    {
     "name": "stdout",
     "output_type": "stream",
     "text": [
      "rm: log/multi_var*: No such file or directory\r\n"
     ]
    }
   ],
   "source": [
    "#python3 wann_test.py -p p/biped_var.json -i log/multi_var_best.out --nReps 1 --view True --nVals 8\n",
    "!rm -r log/multi_var*"
   ]
  },
  {
   "cell_type": "code",
   "execution_count": null,
   "id": "collected-topic",
   "metadata": {},
   "outputs": [
    {
     "name": "stdout",
     "output_type": "stream",
     "text": [
      "Initializing population...\n",
      "/usr/local/lib/python3.9/site-packages/gym/logger.py:30: UserWarning: \u001b[33mWARN: Box bound precision lowered by casting to float32\u001b[0m\n",
      "  warnings.warn(colorize('%s: %s'%('WARN', msg % args), 'yellow'))\n",
      "0 \t |---| Elite Fit: nan \t|---| Best Fit:  nan \t|---| Peak Fit:  nan \t|---| Best Var:  nan\n"
     ]
    }
   ],
   "source": [
    "!python3 wann_train.py -n 1 -p p/biped_var_multi.json -o multi_var #.container { width:100% !important; }"
   ]
  },
  {
   "cell_type": "markdown",
   "id": "lovely-mentor",
   "metadata": {},
   "source": []
  },
  {
   "cell_type": "code",
   "execution_count": null,
   "id": "royal-guinea",
   "metadata": {},
   "outputs": [],
   "source": []
  }
 ],
 "metadata": {
  "kernelspec": {
   "display_name": "Python 3",
   "language": "python",
   "name": "python3"
  },
  "language_info": {
   "codemirror_mode": {
    "name": "ipython",
    "version": 3
   },
   "file_extension": ".py",
   "mimetype": "text/x-python",
   "name": "python",
   "nbconvert_exporter": "python",
   "pygments_lexer": "ipython3",
   "version": "3.9.1"
  }
 },
 "nbformat": 4,
 "nbformat_minor": 5
}
