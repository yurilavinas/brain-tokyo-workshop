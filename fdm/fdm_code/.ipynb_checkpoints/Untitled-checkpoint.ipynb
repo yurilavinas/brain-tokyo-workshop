{
 "cells": [
  {
   "cell_type": "code",
   "execution_count": 52,
   "id": "4e0622ff",
   "metadata": {},
   "outputs": [],
   "source": [
    "import numpy as np\n",
    "import math\n",
    "import pandas as pd"
   ]
  },
  {
   "cell_type": "code",
   "execution_count": 2,
   "id": "47301801",
   "metadata": {},
   "outputs": [],
   "source": [
    "ang_ns_1 = np.loadtxt('behaviour/ns_ang_value_1.out', delimiter=',') \n",
    "ang_fdm_1 = np.loadtxt('behaviour/fdm_ang_value_1.out', delimiter=',') \n",
    "ang_fdm_ns_1 = np.loadtxt('behaviour/fdm_ns_ang_value_1.out', delimiter=',') \n",
    "ang_wann_1 = np.loadtxt('behaviour/wann_ang_value_1.out', delimiter=',') \n",
    "\n",
    "ang_ns_2 = np.loadtxt('behaviour/ns_ang_value_2.out', delimiter=',') \n",
    "ang_fdm_2 = np.loadtxt('behaviour/fdm_ang_value_2.out', delimiter=',') \n",
    "ang_fdm_ns_2 = np.loadtxt('behaviour/fdm_ns_ang_value_2.out', delimiter=',') \n",
    "ang_wann_2 = np.loadtxt('behaviour/wann_ang_value_2.out', delimiter=',') \n",
    "\n",
    "ang_ns_3 = np.loadtxt('behaviour/ns_ang_value_3.out', delimiter=',') \n",
    "ang_fdm_3 = np.loadtxt('behaviour/fdm_ang_value_3.out', delimiter=',') \n",
    "ang_fdm_ns_3 = np.loadtxt('behaviour/fdm_ns_ang_value_3.out', delimiter=',') \n",
    "ang_wann_3 = np.loadtxt('behaviour/wann_ang_value_3.out', delimiter=',') \n",
    "\n",
    "ang_ns_4 = np.loadtxt('behaviour/ns_ang_value_4.out', delimiter=',') \n",
    "ang_fdm_4 = np.loadtxt('behaviour/fdm_ang_value_4.out', delimiter=',') \n",
    "ang_fdm_ns_4 = np.loadtxt('behaviour/fdm_ns_ang_value_4.out', delimiter=',') \n",
    "ang_wann_4 = np.loadtxt('behaviour/wann_ang_value_4.out', delimiter=',') \n",
    "\n",
    "ang_ns_5 = np.loadtxt('behaviour/ns_ang_value_5.out', delimiter=',') \n",
    "ang_fdm_5 = np.loadtxt('behaviour/fdm_ang_value_5.out', delimiter=',') \n",
    "ang_fdm_ns_5 = np.loadtxt('behaviour/fdm_ns_ang_value_5.out', delimiter=',') \n",
    "ang_wann_5 = np.loadtxt('behaviour/wann_ang_value_5.out', delimiter=',') \n",
    "\n",
    "ang_ns_6 = np.loadtxt('behaviour/ns_ang_value_6.out', delimiter=',') \n",
    "ang_fdm_6 = np.loadtxt('behaviour/fdm_ang_value_6.out', delimiter=',') \n",
    "ang_fdm_ns_6 = np.loadtxt('behaviour/fdm_ns_ang_value_6.out', delimiter=',') \n",
    "ang_wann_6 = np.loadtxt('behaviour/wann_ang_value_6.out', delimiter=',') \n",
    "\n",
    "ang_ns_7 = np.loadtxt('behaviour/ns_ang_value_7.out', delimiter=',') \n",
    "ang_fdm_7 = np.loadtxt('behaviour/fdm_ang_value_7.out', delimiter=',') \n",
    "ang_fdm_ns_7 = np.loadtxt('behaviour/fdm_ns_ang_value_7.out', delimiter=',') \n",
    "ang_wann_7 = np.loadtxt('behaviour/wann_ang_value_7.out', delimiter=',') \n",
    "\n",
    "ang_ns_8 = np.loadtxt('behaviour/ns_ang_value_0.out', delimiter=',') \n",
    "ang_fdm_8 = np.loadtxt('behaviour/fdm_ang_value_0.out', delimiter=',') \n",
    "ang_fdm_ns_8 = np.loadtxt('behaviour/fdm_ns_ang_value_0.out', delimiter=',') \n",
    "ang_wann_8 = np.loadtxt('behaviour/wann_ang_value_0.out', delimiter=',') "
   ]
  },
  {
   "cell_type": "code",
   "execution_count": 10,
   "id": "f6517edb",
   "metadata": {},
   "outputs": [
    {
     "data": {
      "text/plain": [
       "124"
      ]
     },
     "execution_count": 10,
     "metadata": {},
     "output_type": "execute_result"
    }
   ],
   "source": [
    "np.sum(ang_ns_1 > 0) # time the pole moved to the right"
   ]
  },
  {
   "cell_type": "code",
   "execution_count": null,
   "id": "adb19d15",
   "metadata": {},
   "outputs": [],
   "source": []
  },
  {
   "cell_type": "code",
   "execution_count": 11,
   "id": "e696b281",
   "metadata": {},
   "outputs": [
    {
     "data": {
      "text/plain": [
       "90"
      ]
     },
     "execution_count": 11,
     "metadata": {},
     "output_type": "execute_result"
    }
   ],
   "source": [
    "np.sum(ang_ns_1 < 0) # time the pole moved to the left"
   ]
  },
  {
   "cell_type": "code",
   "execution_count": 49,
   "id": "f881f900",
   "metadata": {},
   "outputs": [
    {
     "data": {
      "text/plain": [
       "array([2.9 , 2.9 , 2.91, 2.92, 2.93, 2.95, 2.97, 3.  , 3.03, 3.07, 3.11,\n",
       "       3.16, 3.21, 3.26, 3.32, 3.38, 3.44, 3.51, 3.57, 3.64, 3.71, 3.78,\n",
       "       3.85, 3.92, 3.99, 4.05, 4.12, 4.18, 4.25, 4.31, 4.37, 4.42, 4.48,\n",
       "       4.53, 4.58, 4.63, 4.68, 4.72, 4.77, 4.8 , 4.84, 4.88, 4.91, 4.94,\n",
       "       4.96, 4.99, 5.01, 5.02, 5.04, 5.05, 5.06, 5.07, 5.08, 5.08, 5.09,\n",
       "       5.09, 5.09, 5.09, 5.09, 5.09, 5.08, 5.08, 5.07, 5.06, 5.05, 5.04,\n",
       "       5.03, 5.01, 4.99, 4.97])"
      ]
     },
     "execution_count": 49,
     "metadata": {},
     "output_type": "execute_result"
    }
   ],
   "source": [
    "ang_ns_2"
   ]
  },
  {
   "cell_type": "code",
   "execution_count": null,
   "id": "721a173d",
   "metadata": {},
   "outputs": [],
   "source": []
  },
  {
   "cell_type": "code",
   "execution_count": 16,
   "id": "d9677b32",
   "metadata": {},
   "outputs": [],
   "source": [
    "pos_y_p_ns_1 = np.array([math.sin(i)*0.6 for i in ang_ns_1])\n",
    "pos_y_p_fdm_1 = np.array([math.sin(i)*0.6 for i in ang_fdm_1])\n",
    "pos_y_p_fdm_ns_1 = np.array([math.sin(i)*0.6 for i in ang_fdm_ns_1])\n",
    "pos_y_p_wann_1 = np.array([math.sin(i)*0.6 for i in ang_wann_1])\n",
    "\n",
    "pos_y_p_ns_2 = np.array([math.sin(i)*0.6 for i in ang_ns_2])\n",
    "pos_y_p_fdm_2 = np.array([math.sin(i)*0.6 for i in ang_fdm_2])\n",
    "pos_y_p_fdm_ns_2 = np.array([math.sin(i)*0.6 for i in ang_fdm_ns_2])\n",
    "pos_y_p_wann_2 = np.array([math.sin(i)*0.6 for i in ang_wann_2])\n",
    "\n",
    "pos_y_p_ns_3 = np.array([math.sin(i)*0.6 for i in ang_ns_3])\n",
    "pos_y_p_fdm_3 = np.array([math.sin(i)*0.6 for i in ang_fdm_3])\n",
    "pos_y_p_fdm_ns_3 = np.array([math.sin(i)*0.6 for i in ang_fdm_ns_3])\n",
    "pos_y_p_wann_3 = np.array([math.sin(i)*0.6 for i in ang_wann_3])\n",
    "\n",
    "pos_y_p_ns_4 = np.array([math.sin(i)*0.6 for i in ang_ns_4])\n",
    "pos_y_p_fdm_4 = np.array([math.sin(i)*0.6 for i in ang_fdm_4])\n",
    "pos_y_p_fdm_ns_4 = np.array([math.sin(i)*0.6 for i in ang_fdm_ns_4])\n",
    "pos_y_p_wann_4 = np.array([math.sin(i)*0.6 for i in ang_wann_4])\n",
    "\n",
    "pos_y_p_ns_5 = np.array([math.sin(i)*0.6 for i in ang_ns_5])\n",
    "pos_y_p_fdm_5 = np.array([math.sin(i)*0.6 for i in ang_fdm_5])\n",
    "pos_y_p_fdm_ns_5 = np.array([math.sin(i)*0.6 for i in ang_fdm_ns_5])\n",
    "pos_y_p_wann_5 = np.array([math.sin(i)*0.6 for i in ang_wann_5])\n",
    "\n",
    "pos_y_p_ns_6 = np.array([math.sin(i)*0.6 for i in ang_ns_6])\n",
    "pos_y_p_fdm_6 = np.array([math.sin(i)*0.6 for i in ang_fdm_6])\n",
    "pos_y_p_fdm_ns_6 = np.array([math.sin(i)*0.6 for i in ang_fdm_ns_6])\n",
    "pos_y_p_wann_6 = np.array([math.sin(i)*0.6 for i in ang_wann_6])\n",
    "\n",
    "pos_y_p_ns_7 = np.array([math.sin(i)*0.6 for i in ang_ns_7])\n",
    "pos_y_p_fdm_7 = np.array([math.sin(i)*0.6 for i in ang_fdm_7])\n",
    "pos_y_p_fdm_ns_7 = np.array([math.sin(i)*0.6 for i in ang_fdm_ns_7])\n",
    "pos_y_p_wann_7 = np.array([math.sin(i)*0.6 for i in ang_wann_7])\n",
    "\n",
    "pos_y_p_ns_8 = np.array([math.sin(i)*0.6 for i in ang_ns_8])\n",
    "pos_y_p_fdm_8 = np.array([math.sin(i)*0.6 for i in ang_fdm_8])\n",
    "pos_y_p_fdm_ns_8 = np.array([math.sin(i)*0.6 for i in ang_fdm_ns_8])\n",
    "pos_y_p_wann_8 = np.array([math.sin(i)*0.6 for i in ang_wann_8])"
   ]
  },
  {
   "cell_type": "code",
   "execution_count": 45,
   "id": "1892de2d",
   "metadata": {},
   "outputs": [
    {
     "data": {
      "text/plain": [
       "array([ True,  True,  True,  True,  True,  True,  True,  True, False,\n",
       "       False, False, False, False, False, False, False, False, False,\n",
       "       False, False, False, False, False, False, False, False, False,\n",
       "       False, False, False, False, False, False, False, False, False,\n",
       "       False, False, False, False, False, False, False, False, False,\n",
       "       False, False, False, False, False, False, False, False, False,\n",
       "       False, False, False, False, False, False, False, False, False,\n",
       "       False, False, False, False, False, False, False, False, False,\n",
       "       False, False, False, False, False, False, False, False, False,\n",
       "       False, False, False, False, False, False, False,  True,  True,\n",
       "        True,  True,  True,  True,  True,  True,  True,  True,  True,\n",
       "        True,  True,  True,  True,  True,  True,  True,  True,  True,\n",
       "        True,  True,  True,  True,  True,  True,  True,  True,  True,\n",
       "        True, False, False, False, False, False, False, False, False,\n",
       "       False, False, False, False, False, False, False, False, False,\n",
       "       False, False, False, False, False, False, False, False, False,\n",
       "       False, False, False, False, False, False, False, False, False,\n",
       "       False, False, False, False, False, False,  True,  True,  True,\n",
       "        True,  True,  True,  True,  True,  True,  True,  True,  True,\n",
       "        True,  True,  True,  True,  True,  True,  True,  True,  True,\n",
       "        True,  True,  True, False, False, False, False, False, False,\n",
       "       False, False, False, False, False, False, False, False, False,\n",
       "       False, False, False, False, False, False, False, False, False,\n",
       "       False, False, False, False, False])"
      ]
     },
     "execution_count": 45,
     "metadata": {},
     "output_type": "execute_result"
    }
   ],
   "source": [
    "tmp = pos_y_p_ns_3 > 0"
   ]
  },
  {
   "cell_type": "code",
   "execution_count": 47,
   "id": "bc8786e6",
   "metadata": {},
   "outputs": [
    {
     "data": {
      "text/plain": [
       "3.0"
      ]
     },
     "execution_count": 47,
     "metadata": {},
     "output_type": "execute_result"
    }
   ],
   "source": [
    "tmp = pos_y_p_ns_3 > 0\n",
    "j = 0\n",
    "count = 1\n",
    "for i in range(len(tmp)):\n",
    "    if j != i:\n",
    "        if tmp[j]!= tmp[i]: \n",
    "            j = i\n",
    "            count += 1 # couting transitions between below and obove horizontal line\n",
    "count/2 # times the pole move to an upward position"
   ]
  },
  {
   "cell_type": "code",
   "execution_count": 58,
   "id": "7f67a98e",
   "metadata": {},
   "outputs": [],
   "source": [
    "pos_x_p_ns_1 = np.array([math.cos(i)*0.6 for i in ang_ns_1])\n",
    "pos_x_p_fdm_1 = np.array([math.cos(i)*0.6 for i in ang_fdm_1])\n",
    "pos_x_p_fdm_ns_1 = np.array([math.cos(i)*0.6 for i in ang_fdm_ns_1])\n",
    "pos_x_p_wann_1 = np.array([math.cos(i)*0.6 for i in ang_wann_1])\n",
    "\n",
    "pos_x_p_ns_2 = np.array([math.cos(i)*0.6 for i in ang_ns_2])\n",
    "pos_x_p_fdm_2 = np.array([math.cos(i)*0.6 for i in ang_fdm_2])\n",
    "pos_x_p_fdm_ns_2 = np.array([math.cos(i)*0.6 for i in ang_fdm_ns_2])\n",
    "pos_x_p_wann_2 = np.array([math.cos(i)*0.6 for i in ang_wann_2])\n",
    "\n",
    "pos_x_p_ns_3 = np.array([math.cos(i)*0.6 for i in ang_ns_3])\n",
    "pos_x_p_fdm_3 = np.array([math.cos(i)*0.6 for i in ang_fdm_3])\n",
    "pos_x_p_fdm_ns_3 = np.array([math.cos(i)*0.6 for i in ang_fdm_ns_3])\n",
    "pos_x_p_wann_3 = np.array([math.cos(i)*0.6 for i in ang_wann_3])\n",
    "\n",
    "pos_x_p_ns_4 = np.array([math.cos(i)*0.6 for i in ang_ns_4])\n",
    "pos_x_p_fdm_4 = np.array([math.cos(i)*0.6 for i in ang_fdm_4])\n",
    "pos_x_p_fdm_ns_4 = np.array([math.cos(i)*0.6 for i in ang_fdm_ns_4])\n",
    "pos_x_p_wann_4 = np.array([math.cos(i)*0.6 for i in ang_wann_4])\n",
    "\n",
    "pos_x_p_ns_5 = np.array([math.cos(i)*0.6 for i in ang_ns_5])\n",
    "pos_x_p_fdm_5 = np.array([math.cos(i)*0.6 for i in ang_fdm_5])\n",
    "pos_x_p_fdm_ns_5 = np.array([math.cos(i)*0.6 for i in ang_fdm_ns_5])\n",
    "pos_x_p_wann_5 = np.array([math.cos(i)*0.6 for i in ang_wann_5])\n",
    "\n",
    "pos_x_p_ns_6 = np.array([math.cos(i)*0.6 for i in ang_ns_6])\n",
    "pos_x_p_fdm_6 = np.array([math.cos(i)*0.6 for i in ang_fdm_6])\n",
    "pos_x_p_fdm_ns_6 = np.array([math.cos(i)*0.6 for i in ang_fdm_ns_6])\n",
    "pos_x_p_wann_6 = np.array([math.cos(i)*0.6 for i in ang_wann_6])\n",
    "\n",
    "pos_x_p_ns_7 = np.array([math.cos(i)*0.6 for i in ang_ns_7])\n",
    "pos_x_p_fdm_7 = np.array([math.cos(i)*0.6 for i in ang_fdm_7])\n",
    "pos_x_p_fdm_ns_7 = np.array([math.cos(i)*0.6 for i in ang_fdm_ns_7])\n",
    "pos_x_p_wann_7 = np.array([math.cos(i)*0.6 for i in ang_wann_7])\n",
    "\n",
    "pos_x_p_ns_8 = np.array([math.cos(i)*0.6 for i in ang_ns_8])\n",
    "pos_x_p_fdm_8 = np.array([math.cos(i)*0.6 for i in ang_fdm_8])\n",
    "pos_x_p_fdm_ns_8 = np.array([math.cos(i)*0.6 for i in ang_fdm_ns_8])\n",
    "pos_x_p_wann_8 = np.array([math.cos(i)*0.6 for i in ang_wann_8])"
   ]
  },
  {
   "cell_type": "code",
   "execution_count": 61,
   "id": "f1f6ca84",
   "metadata": {},
   "outputs": [],
   "source": [
    "pos_x_ns_1 = np.loadtxt('behaviour/ns_pos_x_1.out', delimiter=',') \n",
    "pos_x_fdm_1 = np.loadtxt('behaviour/fdm_pos_x_1.out', delimiter=',') \n",
    "pos_x_fdm_ns_1 = np.loadtxt('behaviour/fdm_ns_pos_x_1.out', delimiter=',') \n",
    "pos_x_wann_1 = np.loadtxt('behaviour/wann_pos_x_1.out', delimiter=',') \n",
    "\n",
    "pos_x_ns_2 = np.loadtxt('behaviour/ns_pos_x_2.out', delimiter=',') \n",
    "pos_x_fdm_2 = np.loadtxt('behaviour/fdm_pos_x_2.out', delimiter=',') \n",
    "pos_x_fdm_ns_2 = np.loadtxt('behaviour/fdm_ns_pos_x_2.out', delimiter=',') \n",
    "pos_x_wann_2 = np.loadtxt('behaviour/wann_pos_x_2.out', delimiter=',') \n",
    "\n",
    "pos_x_ns_3 = np.loadtxt('behaviour/ns_pos_x_3.out', delimiter=',') \n",
    "pos_x_fdm_3 = np.loadtxt('behaviour/fdm_pos_x_3.out', delimiter=',') \n",
    "pos_x_fdm_ns_3 = np.loadtxt('behaviour/fdm_ns_pos_x_3.out', delimiter=',') \n",
    "pos_x_wann_3 = np.loadtxt('behaviour/wann_pos_x_3.out', delimiter=',') \n",
    "\n",
    "pos_x_ns_4 = np.loadtxt('behaviour/ns_pos_x_4.out', delimiter=',') \n",
    "pos_x_fdm_4 = np.loadtxt('behaviour/fdm_pos_x_4.out', delimiter=',') \n",
    "pos_x_fdm_ns_4 = np.loadtxt('behaviour/fdm_ns_pos_x_4.out', delimiter=',') \n",
    "pos_x_wann_4 = np.loadtxt('behaviour/wann_pos_x_4.out', delimiter=',') \n",
    "\n",
    "pos_x_ns_5 = np.loadtxt('behaviour/ns_pos_x_5.out', delimiter=',') \n",
    "pos_x_fdm_5 = np.loadtxt('behaviour/fdm_pos_x_5.out', delimiter=',') \n",
    "pos_x_fdm_ns_5 = np.loadtxt('behaviour/fdm_ns_pos_x_5.out', delimiter=',') \n",
    "pos_x_wann_5 = np.loadtxt('behaviour/wann_pos_x_5.out', delimiter=',') \n",
    "\n",
    "pos_x_ns_6 = np.loadtxt('behaviour/ns_pos_x_6.out', delimiter=',') \n",
    "pos_x_fdm_6 = np.loadtxt('behaviour/fdm_pos_x_6.out', delimiter=',') \n",
    "pos_x_fdm_ns_6 = np.loadtxt('behaviour/fdm_ns_pos_x_6.out', delimiter=',') \n",
    "pos_x_wann_6 = np.loadtxt('behaviour/wann_pos_x_6.out', delimiter=',') \n",
    "\n",
    "pos_x_ns_7 = np.loadtxt('behaviour/ns_pos_x_7.out', delimiter=',') \n",
    "pos_x_fdm_7 = np.loadtxt('behaviour/fdm_pos_x_7.out', delimiter=',') \n",
    "pos_x_fdm_ns_7 = np.loadtxt('behaviour/fdm_ns_pos_x_7.out', delimiter=',') \n",
    "pos_x_wann_7 = np.loadtxt('behaviour/wann_pos_x_7.out', delimiter=',') \n",
    "\n",
    "pos_x_ns_8 = np.loadtxt('behaviour/ns_pos_x_0.out', delimiter=',') \n",
    "pos_x_fdm_8 = np.loadtxt('behaviour/fdm_pos_x_0.out', delimiter=',') \n",
    "pos_x_fdm_ns_8 = np.loadtxt('behaviour/fdm_ns_pos_x_0.out', delimiter=',') \n",
    "pos_x_wann_8 = np.loadtxt('behaviour/wann_pos_x_0.out', delimiter=',') "
   ]
  },
  {
   "cell_type": "code",
   "execution_count": 63,
   "id": "18899310",
   "metadata": {},
   "outputs": [],
   "source": [
    "t_series_1_ns = pd.DataFrame([[pos_x_p_ns_1[i]+pos_x_ns_1[i], pos_y_p_ns_1[i]] for i in range(len(pos_x_p_ns_1))],columns=['X','Y'])\n",
    "t_series_2_ns = pd.DataFrame([[pos_x_p_ns_2[i]+pos_x_ns_2[i], pos_y_p_ns_2[i]] for i in range(len(pos_x_p_ns_2))],columns=['X','Y'])\n",
    "t_series_3_ns = pd.DataFrame([[pos_x_p_ns_3[i]+pos_x_ns_3[i], pos_y_p_ns_3[i]] for i in range(len(pos_x_p_ns_3))],columns=['X','Y'])\n",
    "t_series_4_ns = pd.DataFrame([[pos_x_p_ns_4[i]+pos_x_ns_4[i], pos_y_p_ns_4[i]] for i in range(len(pos_x_p_ns_4))],columns=['X','Y'])\n",
    "t_series_5_ns = pd.DataFrame([[pos_x_p_ns_5[i]+pos_x_ns_5[i], pos_y_p_ns_5[i]] for i in range(len(pos_x_p_ns_5))],columns=['X','Y'])\n",
    "t_series_6_ns = pd.DataFrame([[pos_x_p_ns_6[i]+pos_x_ns_6[i], pos_y_p_ns_6[i]] for i in range(len(pos_x_p_ns_6))],columns=['X','Y'])\n",
    "t_series_7_ns = pd.DataFrame([[pos_x_p_ns_7[i]+pos_x_ns_7[i], pos_y_p_ns_7[i]] for i in range(len(pos_x_p_ns_7))],columns=['X','Y'])\n",
    "t_series_8_ns = pd.DataFrame([[pos_x_p_ns_8[i]+pos_x_ns_8[i], pos_y_p_ns_8[i]] for i in range(len(pos_x_p_ns_8))],columns=['X','Y'])"
   ]
  },
  {
   "cell_type": "code",
   "execution_count": 73,
   "id": "31caea3f",
   "metadata": {},
   "outputs": [
    {
     "data": {
      "text/plain": [
       "0"
      ]
     },
     "execution_count": 73,
     "metadata": {},
     "output_type": "execute_result"
    }
   ],
   "source": [
    "sum(t_series_2_ns.iloc[:,0] > 0)"
   ]
  },
  {
   "cell_type": "code",
   "execution_count": 74,
   "id": "906d481a",
   "metadata": {},
   "outputs": [
    {
     "data": {
      "text/plain": [
       "70"
      ]
     },
     "execution_count": 74,
     "metadata": {},
     "output_type": "execute_result"
    }
   ],
   "source": [
    "sum(t_series_2_ns.iloc[:,0] < 0)"
   ]
  },
  {
   "cell_type": "code",
   "execution_count": 75,
   "id": "f2ad3c69",
   "metadata": {},
   "outputs": [
    {
     "data": {
      "text/plain": [
       "3.0"
      ]
     },
     "execution_count": 75,
     "metadata": {},
     "output_type": "execute_result"
    }
   ],
   "source": [
    "tmp = pos_y_p_ns_3 > 0\n",
    "j = 0\n",
    "count = 1\n",
    "for i in range(len(tmp)):\n",
    "    if j != i:\n",
    "        if tmp[j]!= tmp[i]: \n",
    "            j = i\n",
    "            count += 1 # couting transitions between below and obove horizontal line\n",
    "count/2 # times the pole move to an upward position"
   ]
  }
 ],
 "metadata": {
  "kernelspec": {
   "display_name": "Python 3",
   "language": "python",
   "name": "python3"
  },
  "language_info": {
   "codemirror_mode": {
    "name": "ipython",
    "version": 3
   },
   "file_extension": ".py",
   "mimetype": "text/x-python",
   "name": "python",
   "nbconvert_exporter": "python",
   "pygments_lexer": "ipython3",
   "version": "3.8.5"
  }
 },
 "nbformat": 4,
 "nbformat_minor": 5
}
