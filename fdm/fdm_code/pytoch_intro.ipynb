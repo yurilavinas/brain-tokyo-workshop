{
 "cells": [
  {
   "cell_type": "markdown",
   "metadata": {
    "colab_type": "text",
    "id": "7OTI4INmBz8L"
   },
   "source": [
    "Código para implementação de uma rede neural simples visto na aula do dia 12/06\n",
    "\n",
    "Para uma melhor explicação do funcionamento de uma NN (Neural Network) a playlist a seguir contém o que  eu considero a explicação simples mais completa: https://www.youtube.com/watch?v=aircAruvnKk&list=PLZHQObOWTQDNU6R1_67000Dx_ZCJB-3pi"
   ]
  },
  {
   "cell_type": "code",
   "execution_count": 1,
   "metadata": {
    "colab": {
     "base_uri": "https://localhost:8080/",
     "height": 34
    },
    "colab_type": "code",
    "id": "1nso4_ymfEQz",
    "outputId": "9875102b-698b-4d41-a3a1-c6e1a3cf53c6"
   },
   "outputs": [
    {
     "ename": "ModuleNotFoundError",
     "evalue": "No module named 'torch'",
     "output_type": "error",
     "traceback": [
      "\u001b[0;31m---------------------------------------------------------------------------\u001b[0m",
      "\u001b[0;31mModuleNotFoundError\u001b[0m                       Traceback (most recent call last)",
      "\u001b[0;32m<ipython-input-1-beb55f24d5ec>\u001b[0m in \u001b[0;36m<module>\u001b[0;34m\u001b[0m\n\u001b[0;32m----> 1\u001b[0;31m \u001b[0;32mimport\u001b[0m \u001b[0mtorch\u001b[0m\u001b[0;34m\u001b[0m\u001b[0;34m\u001b[0m\u001b[0m\n\u001b[0m\u001b[1;32m      2\u001b[0m \u001b[0mprint\u001b[0m\u001b[0;34m(\u001b[0m\u001b[0mtorch\u001b[0m\u001b[0;34m.\u001b[0m\u001b[0m__version__\u001b[0m\u001b[0;34m)\u001b[0m\u001b[0;34m\u001b[0m\u001b[0;34m\u001b[0m\u001b[0m\n",
      "\u001b[0;31mModuleNotFoundError\u001b[0m: No module named 'torch'"
     ]
    }
   ],
   "source": [
    "import torch\n",
    "print(torch.__version__)"
   ]
  },
  {
   "cell_type": "code",
   "execution_count": 2,
   "metadata": {
    "colab": {
     "base_uri": "https://localhost:8080/",
     "height": 34
    },
    "colab_type": "code",
    "id": "xhZ5gW7l2io7",
    "outputId": "6065858b-95b4-4fd8-c41a-325bbd7e0db4"
   },
   "outputs": [
    {
     "name": "stdout",
     "output_type": "stream",
     "text": [
      "CUDA is available!  Training on GPU ...\n"
     ]
    }
   ],
   "source": [
    "train_on_gpu = torch.cuda.is_available()\n",
    "if not train_on_gpu:\n",
    "    print('CUDA is not available.  Training on CPU ...')\n",
    "else:\n",
    "    print('CUDA is available!  Training on GPU ...')"
   ]
  },
  {
   "cell_type": "code",
   "execution_count": 0,
   "metadata": {
    "colab": {},
    "colab_type": "code",
    "id": "mNbRQ0X-fvE9"
   },
   "outputs": [],
   "source": [
    "import torch.nn as nn\n",
    "import torchvision.datasets as dsets\n",
    "import torchvision.transforms as transforms \n",
    "from torch.autograd import Variable\n",
    "import matplotlib.pyplot as plt\n",
    "import numpy as np\n",
    "import torchvision\n",
    "\n"
   ]
  },
  {
   "cell_type": "markdown",
   "metadata": {
    "colab_type": "text",
    "id": "v6MjjtrA-yH7"
   },
   "source": [
    "## Single Neuron Network"
   ]
  },
  {
   "cell_type": "code",
   "execution_count": 4,
   "metadata": {
    "colab": {
     "base_uri": "https://localhost:8080/",
     "height": 139
    },
    "colab_type": "code",
    "id": "g_nIGGigy5pz",
    "outputId": "c2e34c84-76d8-49c9-8734-583a8be455ca"
   },
   "outputs": [
    {
     "name": "stdout",
     "output_type": "stream",
     "text": [
      "Net(\n",
      "  (fc1): Linear(in_features=1, out_features=1, bias=True)\n",
      ")\n",
      "\n",
      "[Parameter containing:\n",
      "tensor([[-0.0082]], requires_grad=True), Parameter containing:\n",
      "tensor([0.7200], requires_grad=True)]\n"
     ]
    }
   ],
   "source": [
    "class Net(nn.Module): # Cria uma rede neural com uma camada e um neuron\n",
    "    def __init__(self):\n",
    "        super(Net, self).__init__()\n",
    "        self.fc1 = nn.Linear(1,1) # Aqui é declarado as camadas\n",
    "        \n",
    "    def forward(self, x): # Esta função é chamada quando aplica-se à rede ao input\n",
    "        x = self.fc1(x)\n",
    "        return x\n",
    "      \n",
    "net = Net()\n",
    "print(net)\n",
    "print()\n",
    "print(list(net.parameters()))"
   ]
  },
  {
   "cell_type": "code",
   "execution_count": 0,
   "metadata": {
    "colab": {},
    "colab_type": "code",
    "id": "3RngrSNj7X-q"
   },
   "outputs": [],
   "source": [
    "input = Variable(torch.randn(1,1,1), requires_grad=True)\n",
    "print(input)"
   ]
  },
  {
   "cell_type": "code",
   "execution_count": 0,
   "metadata": {
    "colab": {
     "base_uri": "https://localhost:8080/",
     "height": 34
    },
    "colab_type": "code",
    "id": "CKG85AyBz4ge",
    "outputId": "17a5c963-c827-4ad5-930e-8c445c3054b2"
   },
   "outputs": [
    {
     "name": "stdout",
     "output_type": "stream",
     "text": [
      "tensor([[[1.9975]]], grad_fn=<AddBackward0>)\n"
     ]
    }
   ],
   "source": [
    "out = net(input)\n",
    "print(out)"
   ]
  },
  {
   "cell_type": "code",
   "execution_count": 0,
   "metadata": {
    "colab": {},
    "colab_type": "code",
    "id": "UiXZ3anR_xS5"
   },
   "outputs": [],
   "source": [
    "def criterion(out, label): # Função de erro (loss function)\n",
    "    return (label - out)**2\n",
    "  \n",
    "optimizer = torch.optim.SGD(net.parameters(), lr=0.01)"
   ]
  },
  {
   "cell_type": "code",
   "execution_count": 0,
   "metadata": {
    "colab": {},
    "colab_type": "code",
    "id": "C6azrn2X_5qa"
   },
   "outputs": [],
   "source": [
    "data = [(1,4), (2,7), (3,10), (4,13), (5,16), (6,19)]"
   ]
  },
  {
   "cell_type": "code",
   "execution_count": 0,
   "metadata": {
    "colab": {
     "base_uri": "https://localhost:8080/",
     "height": 191
    },
    "colab_type": "code",
    "id": "yKThe6h1AC6A",
    "outputId": "1c7ccbe9-88a0-4888-cb54-782d5e24d212"
   },
   "outputs": [
    {
     "name": "stdout",
     "output_type": "stream",
     "text": [
      "Epoch 0 - loss: 0.002081268234178424\n",
      "Epoch 10 - loss: 0.0013033068971708417\n",
      "Epoch 20 - loss: 0.0008161186706274748\n",
      "Epoch 30 - loss: 0.0005110265337862074\n",
      "Epoch 40 - loss: 0.00032001713407225907\n",
      "Epoch 50 - loss: 0.0002004020061576739\n",
      "Epoch 60 - loss: 0.00012548163067549467\n",
      "Epoch 70 - loss: 7.857763557694852e-05\n",
      "Epoch 80 - loss: 4.920673745800741e-05\n",
      "Epoch 90 - loss: 3.081206159549765e-05\n"
     ]
    }
   ],
   "source": [
    "for epoch in range(100):\n",
    "    for i, data2 in enumerate(data):\n",
    "        X, Y = iter(data2)\n",
    "        X = Variable(torch.FloatTensor([X]), requires_grad=True)\n",
    "        Y = Variable(torch.FloatTensor([Y]), requires_grad=False)\n",
    "        optimizer.zero_grad() #zera os gradientes, é necessário fazer isso porque eles se acumumlam a cada iteração\n",
    "        outputs = net(X) # Aplica a rede neural à X\n",
    "        loss = criterion(outputs, Y) # Calculo da função de erro \n",
    "        loss.backward() # Calcula os gradientes em relação à função de erro\n",
    "        optimizer.step() # Atualiza os pesos e vieses da rede aplicando os gradientes\n",
    "        if (i % 10 == 0 and epoch %10==0):\n",
    "            print(\"Epoch {} - loss: {}\".format(epoch, loss.data[0]))"
   ]
  },
  {
   "cell_type": "code",
   "execution_count": 0,
   "metadata": {
    "colab": {
     "base_uri": "https://localhost:8080/",
     "height": 69
    },
    "colab_type": "code",
    "id": "3inue_T8BQLs",
    "outputId": "a4b68a2f-d428-4ff2-b2a2-10c80109223f"
   },
   "outputs": [
    {
     "name": "stdout",
     "output_type": "stream",
     "text": [
      "[Parameter containing:\n",
      "tensor([[2.9990]], requires_grad=True), Parameter containing:\n",
      "tensor([1.0054], requires_grad=True)]\n"
     ]
    }
   ],
   "source": [
    "print(list(net.parameters()))"
   ]
  },
  {
   "cell_type": "markdown",
   "metadata": {
    "colab_type": "text",
    "id": "mD1Dik_atqsq"
   },
   "source": [
    "##Not MNIST"
   ]
  },
  {
   "cell_type": "code",
   "execution_count": 0,
   "metadata": {
    "colab": {},
    "colab_type": "code",
    "id": "SkEroiSCtokC"
   },
   "outputs": [],
   "source": [
    "input_size    = 784\n",
    "hidden_size   = 500 \n",
    "num_classes   = 10 \n",
    "num_epochs    = 10  \n",
    "batch_size    = 100   \n",
    "learning_rate = 1e-3"
   ]
  },
  {
   "cell_type": "code",
   "execution_count": 0,
   "metadata": {
    "colab": {},
    "colab_type": "code",
    "id": "O3sTU5K3gdp8"
   },
   "outputs": [],
   "source": [
    "train_dataset = dsets.FashionMNIST(root='./data',\n",
    "                           train=True,\n",
    "                           transform=transforms.ToTensor(),\n",
    "                           download=True)\n",
    "\n",
    "test_dataset = dsets.FashionMNIST(root='./data',\n",
    "                           train=False,\n",
    "                           transform=transforms.ToTensor(),\n",
    "                           download=True)"
   ]
  },
  {
   "cell_type": "code",
   "execution_count": 0,
   "metadata": {
    "colab": {},
    "colab_type": "code",
    "id": "6Dm9PnjJg_8_"
   },
   "outputs": [],
   "source": [
    "# Ambas variáveis abaixo separam o conjunto em batchs\n",
    "train_loader = torch.utils.data.DataLoader(dataset=train_dataset,\n",
    "                                          batch_size=batch_size,\n",
    "                                          shuffle=True)\n",
    "\n",
    "test_loader = torch.utils.data.DataLoader(dataset=test_dataset,\n",
    "                                          batch_size=batch_size,\n",
    "                                          shuffle=False)"
   ]
  },
  {
   "cell_type": "code",
   "execution_count": 0,
   "metadata": {
    "colab": {},
    "colab_type": "code",
    "id": "2L8-VWqzBJPO"
   },
   "outputs": [],
   "source": [
    "classes = {0 : 'T-Shirt', 1 : 'Trouser', 2 : 'Pullover', 3 : 'Dress', 4 : 'Coat', 5 : 'Sandal', 6 : 'Shirt',\n",
    "              7 : 'Sneaker', 8 : 'Bag', 9 : 'Ankle Boot'};\n"
   ]
  },
  {
   "cell_type": "code",
   "execution_count": 0,
   "metadata": {
    "colab": {
     "base_uri": "https://localhost:8080/",
     "height": 499
    },
    "colab_type": "code",
    "id": "fJ7XiY3izm2M",
    "outputId": "7b94e079-f843-4c16-953d-2c5b797340c8"
   },
   "outputs": [
    {
     "data": {
      "image/png": "[encoded data removed]",
      "text/plain": [
       "<Figure size 576x576 with 20 Axes>"
      ]
     },
     "metadata": {
      "tags": []
     },
     "output_type": "display_data"
    }
   ],
   "source": [
    "fig = plt.figure(figsize=(8,8));\n",
    "columns = 4;\n",
    "rows = 5;\n",
    "\n",
    "# Plota as imagens\n",
    "for i in range(1, columns*rows +1):\n",
    "    img_xy = np.random.randint(len(train_dataset));\n",
    "    img = train_dataset[img_xy][0][0,:,:]\n",
    "    fig.add_subplot(rows, columns, i)\n",
    "    plt.title(classes[train_dataset[img_xy][1]])\n",
    "    plt.axis('off')\n",
    "    plt.imshow(img, cmap='gray')\n",
    "plt.show()"
   ]
  },
  {
   "cell_type": "code",
   "execution_count": 0,
   "metadata": {
    "colab": {},
    "colab_type": "code",
    "id": "vyBt9MTBhFV4"
   },
   "outputs": [],
   "source": [
    "# Diferente da rede anterior, esta rede tem duas camadas, é possível adicionar\n",
    "# mais camadas declarando mais nn.Linear\n",
    "class Net(nn.Module):\n",
    "    def __init__(self, input_size, hidden_size, num_classes):\n",
    "        super(Net, self).__init__()                    \n",
    "        self.fc1 = nn.Linear(input_size, hidden_size) \n",
    "        self.relu = nn.ReLU() # Função não linear, aplicar ela em todas as camadas\n",
    "                              # menos na última\n",
    "        self.fc2 = nn.Linear(hidden_size, num_classes) \n",
    "    \n",
    "    def forward(self, x):                              \n",
    "        out = self.fc1(x)\n",
    "        out = self.relu(out)\n",
    "        out = self.fc2(out)\n",
    "        return out"
   ]
  },
  {
   "cell_type": "code",
   "execution_count": 0,
   "metadata": {
    "colab": {},
    "colab_type": "code",
    "id": "eWyc8StLhfp6"
   },
   "outputs": [],
   "source": [
    "net = Net(input_size, hidden_size, num_classes)"
   ]
  },
  {
   "cell_type": "code",
   "execution_count": 0,
   "metadata": {
    "colab": {},
    "colab_type": "code",
    "id": "gybt7W6jhqzc"
   },
   "outputs": [],
   "source": [
    "if train_on_gpu:\n",
    "    net.cuda()"
   ]
  },
  {
   "cell_type": "code",
   "execution_count": 0,
   "metadata": {
    "colab": {},
    "colab_type": "code",
    "id": "z9ebIfwIhz-x"
   },
   "outputs": [],
   "source": [
    "criterion = nn.CrossEntropyLoss()\n",
    "optimizer = torch.optim.SGD(net.parameters(), lr=learning_rate)"
   ]
  },
  {
   "cell_type": "code",
   "execution_count": 0,
   "metadata": {
    "colab": {
     "base_uri": "https://localhost:8080/",
     "height": 1059
    },
    "colab_type": "code",
    "id": "nP97eqWCh4UJ",
    "outputId": "57ba68c1-29c9-442f-ca2a-c11747eef360"
   },
   "outputs": [
    {
     "name": "stdout",
     "output_type": "stream",
     "text": [
      "Epoch [1/10], Step [100/600], Loss: 2.2383\n",
      "Epoch [1/10], Step [200/600], Loss: 2.1765\n",
      "Epoch [1/10], Step [300/600], Loss: 2.1357\n",
      "Epoch [1/10], Step [400/600], Loss: 2.0879\n",
      "Epoch [1/10], Step [500/600], Loss: 1.9824\n",
      "Epoch [1/10], Step [600/600], Loss: 2.0133\n",
      "Epoch [2/10], Step [100/600], Loss: 1.9207\n",
      "Epoch [2/10], Step [200/600], Loss: 1.9137\n",
      "Epoch [2/10], Step [300/600], Loss: 1.8225\n",
      "Epoch [2/10], Step [400/600], Loss: 1.7580\n",
      "Epoch [2/10], Step [500/600], Loss: 1.7087\n",
      "Epoch [2/10], Step [600/600], Loss: 1.6770\n",
      "Epoch [3/10], Step [100/600], Loss: 1.6473\n",
      "Epoch [3/10], Step [200/600], Loss: 1.5462\n",
      "Epoch [3/10], Step [300/600], Loss: 1.5089\n",
      "Epoch [3/10], Step [400/600], Loss: 1.5294\n",
      "Epoch [3/10], Step [500/600], Loss: 1.4724\n",
      "Epoch [3/10], Step [600/600], Loss: 1.3232\n",
      "Epoch [4/10], Step [100/600], Loss: 1.3752\n",
      "Epoch [4/10], Step [200/600], Loss: 1.3232\n",
      "Epoch [4/10], Step [300/600], Loss: 1.3074\n",
      "Epoch [4/10], Step [400/600], Loss: 1.2940\n",
      "Epoch [4/10], Step [500/600], Loss: 1.2604\n",
      "Epoch [4/10], Step [600/600], Loss: 1.1562\n",
      "Epoch [5/10], Step [100/600], Loss: 1.2083\n",
      "Epoch [5/10], Step [200/600], Loss: 1.1332\n",
      "Epoch [5/10], Step [300/600], Loss: 1.1567\n",
      "Epoch [5/10], Step [400/600], Loss: 1.1364\n",
      "Epoch [5/10], Step [500/600], Loss: 1.1101\n",
      "Epoch [5/10], Step [600/600], Loss: 1.0782\n",
      "Epoch [6/10], Step [100/600], Loss: 1.0446\n",
      "Epoch [6/10], Step [200/600], Loss: 1.0990\n",
      "Epoch [6/10], Step [300/600], Loss: 1.0635\n",
      "Epoch [6/10], Step [400/600], Loss: 1.0484\n",
      "Epoch [6/10], Step [500/600], Loss: 1.0084\n",
      "Epoch [6/10], Step [600/600], Loss: 0.9311\n",
      "Epoch [7/10], Step [100/600], Loss: 0.9443\n",
      "Epoch [7/10], Step [200/600], Loss: 0.9963\n",
      "Epoch [7/10], Step [300/600], Loss: 1.0830\n",
      "Epoch [7/10], Step [400/600], Loss: 0.8562\n",
      "Epoch [7/10], Step [500/600], Loss: 0.9622\n",
      "Epoch [7/10], Step [600/600], Loss: 0.9087\n",
      "Epoch [8/10], Step [100/600], Loss: 0.9493\n",
      "Epoch [8/10], Step [200/600], Loss: 0.9008\n",
      "Epoch [8/10], Step [300/600], Loss: 0.9182\n",
      "Epoch [8/10], Step [400/600], Loss: 0.8809\n",
      "Epoch [8/10], Step [500/600], Loss: 0.8622\n",
      "Epoch [8/10], Step [600/600], Loss: 0.8716\n",
      "Epoch [9/10], Step [100/600], Loss: 0.9590\n",
      "Epoch [9/10], Step [200/600], Loss: 0.9459\n",
      "Epoch [9/10], Step [300/600], Loss: 0.8658\n",
      "Epoch [9/10], Step [400/600], Loss: 0.8102\n",
      "Epoch [9/10], Step [500/600], Loss: 0.7714\n",
      "Epoch [9/10], Step [600/600], Loss: 0.7824\n",
      "Epoch [10/10], Step [100/600], Loss: 0.8773\n",
      "Epoch [10/10], Step [200/600], Loss: 0.7786\n",
      "Epoch [10/10], Step [300/600], Loss: 0.7616\n",
      "Epoch [10/10], Step [400/600], Loss: 0.9510\n",
      "Epoch [10/10], Step [500/600], Loss: 0.8585\n",
      "Epoch [10/10], Step [600/600], Loss: 0.7610\n"
     ]
    }
   ],
   "source": [
    "for epoch in range(num_epochs):\n",
    "    for i, (images, labels) in enumerate(train_loader):   \n",
    "        images = Variable(images.view(-1, 28*28))         \n",
    "        labels = Variable(labels)\n",
    "        \n",
    "        if train_on_gpu:\n",
    "            images = images.cuda()\n",
    "            labels = labels.cuda()\n",
    "        \n",
    "        optimizer.zero_grad()                             \n",
    "        outputs = net(images)                             \n",
    "        loss = criterion(outputs, labels)                 \n",
    "        loss.backward()                                   \n",
    "        optimizer.step()                                  \n",
    "        \n",
    "        if (i+1) % 100 == 0:                              \n",
    "            print('Epoch [%d/%d], Step [%d/%d], Loss: %.4f'\n",
    "                 %(epoch+1, num_epochs, i+1, len(train_dataset)//batch_size, loss.item()))\n",
    "\n"
   ]
  },
  {
   "cell_type": "markdown",
   "metadata": {
    "colab_type": "text",
    "id": "-3U5TO0giY1G"
   },
   "source": [
    "## Evaluate the model"
   ]
  },
  {
   "cell_type": "code",
   "execution_count": 0,
   "metadata": {
    "colab": {
     "base_uri": "https://localhost:8080/",
     "height": 34
    },
    "colab_type": "code",
    "id": "BLL06s0fiaa4",
    "outputId": "3c589b1f-e874-48cd-c9e0-30e0a1c33425"
   },
   "outputs": [
    {
     "name": "stdout",
     "output_type": "stream",
     "text": [
      "Accuracy of the network on the 10K test images: 70 %\n"
     ]
    }
   ],
   "source": [
    "correct = 0\n",
    "total = 0\n",
    "for images, labels in test_loader:\n",
    "    images = Variable(images.view(-1, 28*28))\n",
    "    \n",
    "    if train_on_gpu:\n",
    "        images = images.cuda()\n",
    "        labels = labels.cuda()\n",
    "    \n",
    "    \n",
    "    outputs = net(images)\n",
    "    _, predicted = torch.max(outputs.data, 1)  \n",
    "    total += labels.size(0)                   \n",
    "    correct += (predicted == labels).sum()     \n",
    "    \n",
    "print('Accuracy of the network on the 10K test images: %d %%' % (100 * correct / total))"
   ]
  },
  {
   "cell_type": "code",
   "execution_count": 0,
   "metadata": {
    "colab": {},
    "colab_type": "code",
    "id": "IWVX0z9_ieLW"
   },
   "outputs": [],
   "source": [
    "torch.save(net.state_dict(), 'nn_weights.pt') #Salva os pesos e vieses da rede,\n",
    "                                              # Podem ser recuperados com torch.load"
   ]
  }
 ],
 "metadata": {
  "accelerator": "GPU",
  "colab": {
   "collapsed_sections": [],
   "name": "pytoch.ipynb",
   "provenance": [],
   "version": "0.3.2"
  },
  "kernelspec": {
   "display_name": "Python 3",
   "language": "python",
   "name": "python3"
  },
  "language_info": {
   "codemirror_mode": {
    "name": "ipython",
    "version": 3
   },
   "file_extension": ".py",
   "mimetype": "text/x-python",
   "name": "python",
   "nbconvert_exporter": "python",
   "pygments_lexer": "ipython3",
   "version": "3.8.5"
  }
 },
 "nbformat": 4,
 "nbformat_minor": 1
}
