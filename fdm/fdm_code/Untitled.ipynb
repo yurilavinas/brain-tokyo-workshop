{
 "cells": [
  {
   "cell_type": "code",
   "execution_count": 3,
   "id": "4e0622ff",
   "metadata": {},
   "outputs": [],
   "source": [
    "import numpy as np\n",
    "import math\n",
    "import pandas as pd\n",
    "from scipy import special"
   ]
  },
  {
   "cell_type": "code",
   "execution_count": 10,
   "id": "47301801",
   "metadata": {},
   "outputs": [],
   "source": [
    "ang_ns_1 = np.loadtxt('behaviour/ns_ang_value_1.out', delimiter=',') \n",
    "ang_fdm_1 = np.loadtxt('behaviour/fdm_ang_value_1.out', delimiter=',') \n",
    "ang_fdm_ns_1 = np.loadtxt('behaviour/fdm_ns_ang_value_1.out', delimiter=',') \n",
    "ang_wann_1 = np.loadtxt('behaviour/wann_ang_value_1.out', delimiter=',') \n",
    "\n",
    "ang_ns_2 = np.loadtxt('behaviour/ns_ang_value_2.out', delimiter=',') \n",
    "ang_fdm_2 = np.loadtxt('behaviour/fdm_ang_value_2.out', delimiter=',') \n",
    "ang_fdm_ns_2 = np.loadtxt('behaviour/fdm_ns_ang_value_2.out', delimiter=',') \n",
    "ang_wann_2 = np.loadtxt('behaviour/wann_ang_value_2.out', delimiter=',') \n",
    "\n",
    "ang_ns_3 = np.loadtxt('behaviour/ns_ang_value_3.out', delimiter=',') \n",
    "ang_fdm_3 = np.loadtxt('behaviour/fdm_ang_value_3.out', delimiter=',') \n",
    "ang_fdm_ns_3 = np.loadtxt('behaviour/fdm_ns_ang_value_3.out', delimiter=',') \n",
    "ang_wann_3 = np.loadtxt('behaviour/wann_ang_value_3.out', delimiter=',') \n",
    "\n",
    "ang_ns_4 = np.loadtxt('behaviour/ns_ang_value_4.out', delimiter=',') \n",
    "ang_fdm_4 = np.loadtxt('behaviour/fdm_ang_value_4.out', delimiter=',') \n",
    "ang_fdm_ns_4 = np.loadtxt('behaviour/fdm_ns_ang_value_4.out', delimiter=',') \n",
    "ang_wann_4 = np.loadtxt('behaviour/wann_ang_value_4.out', delimiter=',') \n",
    "\n",
    "ang_ns_5 = np.loadtxt('behaviour/ns_ang_value_5.out', delimiter=',') \n",
    "ang_fdm_5 = np.loadtxt('behaviour/fdm_ang_value_5.out', delimiter=',') \n",
    "ang_fdm_ns_5 = np.loadtxt('behaviour/fdm_ns_ang_value_5.out', delimiter=',') \n",
    "ang_wann_5 = np.loadtxt('behaviour/wann_ang_value_5.out', delimiter=',') \n",
    "\n",
    "ang_ns_6 = np.loadtxt('behaviour/ns_ang_value_6.out', delimiter=',') \n",
    "ang_fdm_6 = np.loadtxt('behaviour/fdm_ang_value_6.out', delimiter=',') \n",
    "ang_fdm_ns_6 = np.loadtxt('behaviour/fdm_ns_ang_value_6.out', delimiter=',') \n",
    "ang_wann_6 = np.loadtxt('behaviour/wann_ang_value_6.out', delimiter=',') \n",
    "\n",
    "ang_ns_7 = np.loadtxt('behaviour/ns_ang_value_7.out', delimiter=',') \n",
    "ang_fdm_7 = np.loadtxt('behaviour/fdm_ang_value_7.out', delimiter=',') \n",
    "ang_fdm_ns_7 = np.loadtxt('behaviour/fdm_ns_ang_value_7.out', delimiter=',') \n",
    "ang_wann_7 = np.loadtxt('behaviour/wann_ang_value_7.out', delimiter=',') \n",
    "\n",
    "ang_ns_8 = np.loadtxt('behaviour/ns_ang_value_0.out', delimiter=',') \n",
    "ang_fdm_8 = np.loadtxt('behaviour/fdm_ang_value_0.out', delimiter=',') \n",
    "ang_fdm_ns_8 = np.loadtxt('behaviour/fdm_ns_ang_value_0.out', delimiter=',') \n",
    "ang_wann_8 = np.loadtxt('behaviour/wann_ang_value_0.out', delimiter=',') "
   ]
  },
  {
   "cell_type": "code",
   "execution_count": 11,
   "id": "d9677b32",
   "metadata": {},
   "outputs": [],
   "source": [
    "pos_y_p_ns_1 = np.array([math.sin(i)*0.6 for i in ang_ns_1])\n",
    "pos_y_p_fdm_1 = np.array([math.sin(i)*0.6 for i in ang_fdm_1])\n",
    "pos_y_p_fdm_ns_1 = np.array([math.sin(i)*0.6 for i in ang_fdm_ns_1])\n",
    "pos_y_p_wann_1 = np.array([math.sin(i)*0.6 for i in ang_wann_1])\n",
    "\n",
    "pos_y_p_ns_2 = np.array([math.sin(i)*0.6 for i in ang_ns_2])\n",
    "pos_y_p_fdm_2 = np.array([math.sin(i)*0.6 for i in ang_fdm_2])\n",
    "pos_y_p_fdm_ns_2 = np.array([math.sin(i)*0.6 for i in ang_fdm_ns_2])\n",
    "pos_y_p_wann_2 = np.array([math.sin(i)*0.6 for i in ang_wann_2])\n",
    "\n",
    "pos_y_p_ns_3 = np.array([math.sin(i)*0.6 for i in ang_ns_3])\n",
    "pos_y_p_fdm_3 = np.array([math.sin(i)*0.6 for i in ang_fdm_3])\n",
    "pos_y_p_fdm_ns_3 = np.array([math.sin(i)*0.6 for i in ang_fdm_ns_3])\n",
    "pos_y_p_wann_3 = np.array([math.sin(i)*0.6 for i in ang_wann_3])\n",
    "\n",
    "pos_y_p_ns_4 = np.array([math.sin(i)*0.6 for i in ang_ns_4])\n",
    "pos_y_p_fdm_4 = np.array([math.sin(i)*0.6 for i in ang_fdm_4])\n",
    "pos_y_p_fdm_ns_4 = np.array([math.sin(i)*0.6 for i in ang_fdm_ns_4])\n",
    "pos_y_p_wann_4 = np.array([math.sin(i)*0.6 for i in ang_wann_4])\n",
    "\n",
    "pos_y_p_ns_5 = np.array([math.sin(i)*0.6 for i in ang_ns_5])\n",
    "pos_y_p_fdm_5 = np.array([math.sin(i)*0.6 for i in ang_fdm_5])\n",
    "pos_y_p_fdm_ns_5 = np.array([math.sin(i)*0.6 for i in ang_fdm_ns_5])\n",
    "pos_y_p_wann_5 = np.array([math.sin(i)*0.6 for i in ang_wann_5])\n",
    "\n",
    "pos_y_p_ns_6 = np.array([math.sin(i)*0.6 for i in ang_ns_6])\n",
    "pos_y_p_fdm_6 = np.array([math.sin(i)*0.6 for i in ang_fdm_6])\n",
    "pos_y_p_fdm_ns_6 = np.array([math.sin(i)*0.6 for i in ang_fdm_ns_6])\n",
    "pos_y_p_wann_6 = np.array([math.sin(i)*0.6 for i in ang_wann_6])\n",
    "\n",
    "pos_y_p_ns_7 = np.array([math.sin(i)*0.6 for i in ang_ns_7])\n",
    "pos_y_p_fdm_7 = np.array([math.sin(i)*0.6 for i in ang_fdm_7])\n",
    "pos_y_p_fdm_ns_7 = np.array([math.sin(i)*0.6 for i in ang_fdm_ns_7])\n",
    "pos_y_p_wann_7 = np.array([math.sin(i)*0.6 for i in ang_wann_7])\n",
    "\n",
    "pos_y_p_ns_8 = np.array([math.sin(i)*0.6 for i in ang_ns_8])\n",
    "pos_y_p_fdm_8 = np.array([math.sin(i)*0.6 for i in ang_fdm_8])\n",
    "pos_y_p_fdm_ns_8 = np.array([math.sin(i)*0.6 for i in ang_fdm_ns_8])\n",
    "pos_y_p_wann_8 = np.array([math.sin(i)*0.6 for i in ang_wann_8])"
   ]
  },
  {
   "cell_type": "code",
   "execution_count": 12,
   "id": "1892de2d",
   "metadata": {},
   "outputs": [],
   "source": [
    "# tmp = pos_y_p_ns_3 > 0"
   ]
  },
  {
   "cell_type": "code",
   "execution_count": null,
   "id": "bc8786e6",
   "metadata": {},
   "outputs": [],
   "source": []
  },
  {
   "cell_type": "code",
   "execution_count": 13,
   "id": "7f67a98e",
   "metadata": {},
   "outputs": [],
   "source": [
    "pos_x_p_ns_1 = np.array([math.cos(i)*0.6 for i in ang_ns_1])\n",
    "pos_x_p_fdm_1 = np.array([math.cos(i)*0.6 for i in ang_fdm_1])\n",
    "pos_x_p_fdm_ns_1 = np.array([math.cos(i)*0.6 for i in ang_fdm_ns_1])\n",
    "pos_x_p_wann_1 = np.array([math.cos(i)*0.6 for i in ang_wann_1])\n",
    "\n",
    "pos_x_p_ns_2 = np.array([math.cos(i)*0.6 for i in ang_ns_2])\n",
    "pos_x_p_fdm_2 = np.array([math.cos(i)*0.6 for i in ang_fdm_2])\n",
    "pos_x_p_fdm_ns_2 = np.array([math.cos(i)*0.6 for i in ang_fdm_ns_2])\n",
    "pos_x_p_wann_2 = np.array([math.cos(i)*0.6 for i in ang_wann_2])\n",
    "\n",
    "pos_x_p_ns_3 = np.array([math.cos(i)*0.6 for i in ang_ns_3])\n",
    "pos_x_p_fdm_3 = np.array([math.cos(i)*0.6 for i in ang_fdm_3])\n",
    "pos_x_p_fdm_ns_3 = np.array([math.cos(i)*0.6 for i in ang_fdm_ns_3])\n",
    "pos_x_p_wann_3 = np.array([math.cos(i)*0.6 for i in ang_wann_3])\n",
    "\n",
    "pos_x_p_ns_4 = np.array([math.cos(i)*0.6 for i in ang_ns_4])\n",
    "pos_x_p_fdm_4 = np.array([math.cos(i)*0.6 for i in ang_fdm_4])\n",
    "pos_x_p_fdm_ns_4 = np.array([math.cos(i)*0.6 for i in ang_fdm_ns_4])\n",
    "pos_x_p_wann_4 = np.array([math.cos(i)*0.6 for i in ang_wann_4])\n",
    "\n",
    "pos_x_p_ns_5 = np.array([math.cos(i)*0.6 for i in ang_ns_5])\n",
    "pos_x_p_fdm_5 = np.array([math.cos(i)*0.6 for i in ang_fdm_5])\n",
    "pos_x_p_fdm_ns_5 = np.array([math.cos(i)*0.6 for i in ang_fdm_ns_5])\n",
    "pos_x_p_wann_5 = np.array([math.cos(i)*0.6 for i in ang_wann_5])\n",
    "\n",
    "pos_x_p_ns_6 = np.array([math.cos(i)*0.6 for i in ang_ns_6])\n",
    "pos_x_p_fdm_6 = np.array([math.cos(i)*0.6 for i in ang_fdm_6])\n",
    "pos_x_p_fdm_ns_6 = np.array([math.cos(i)*0.6 for i in ang_fdm_ns_6])\n",
    "pos_x_p_wann_6 = np.array([math.cos(i)*0.6 for i in ang_wann_6])\n",
    "\n",
    "pos_x_p_ns_7 = np.array([math.cos(i)*0.6 for i in ang_ns_7])\n",
    "pos_x_p_fdm_7 = np.array([math.cos(i)*0.6 for i in ang_fdm_7])\n",
    "pos_x_p_fdm_ns_7 = np.array([math.cos(i)*0.6 for i in ang_fdm_ns_7])\n",
    "pos_x_p_wann_7 = np.array([math.cos(i)*0.6 for i in ang_wann_7])\n",
    "\n",
    "pos_x_p_ns_8 = np.array([math.cos(i)*0.6 for i in ang_ns_8])\n",
    "pos_x_p_fdm_8 = np.array([math.cos(i)*0.6 for i in ang_fdm_8])\n",
    "pos_x_p_fdm_ns_8 = np.array([math.cos(i)*0.6 for i in ang_fdm_ns_8])\n",
    "pos_x_p_wann_8 = np.array([math.cos(i)*0.6 for i in ang_wann_8])"
   ]
  },
  {
   "cell_type": "code",
   "execution_count": 14,
   "id": "f1f6ca84",
   "metadata": {},
   "outputs": [],
   "source": [
    "pos_x_ns_1 = np.loadtxt('behaviour/ns_pos_x_1.out', delimiter=',') \n",
    "pos_x_fdm_1 = np.loadtxt('behaviour/fdm_pos_x_1.out', delimiter=',') \n",
    "pos_x_fdm_ns_1 = np.loadtxt('behaviour/fdm_ns_pos_x_1.out', delimiter=',') \n",
    "pos_x_wann_1 = np.loadtxt('behaviour/wann_pos_x_1.out', delimiter=',') \n",
    "\n",
    "pos_x_ns_2 = np.loadtxt('behaviour/ns_pos_x_2.out', delimiter=',') \n",
    "pos_x_fdm_2 = np.loadtxt('behaviour/fdm_pos_x_2.out', delimiter=',') \n",
    "pos_x_fdm_ns_2 = np.loadtxt('behaviour/fdm_ns_pos_x_2.out', delimiter=',') \n",
    "pos_x_wann_2 = np.loadtxt('behaviour/wann_pos_x_2.out', delimiter=',') \n",
    "\n",
    "pos_x_ns_3 = np.loadtxt('behaviour/ns_pos_x_3.out', delimiter=',') \n",
    "pos_x_fdm_3 = np.loadtxt('behaviour/fdm_pos_x_3.out', delimiter=',') \n",
    "pos_x_fdm_ns_3 = np.loadtxt('behaviour/fdm_ns_pos_x_3.out', delimiter=',') \n",
    "pos_x_wann_3 = np.loadtxt('behaviour/wann_pos_x_3.out', delimiter=',') \n",
    "\n",
    "pos_x_ns_4 = np.loadtxt('behaviour/ns_pos_x_4.out', delimiter=',') \n",
    "pos_x_fdm_4 = np.loadtxt('behaviour/fdm_pos_x_4.out', delimiter=',') \n",
    "pos_x_fdm_ns_4 = np.loadtxt('behaviour/fdm_ns_pos_x_4.out', delimiter=',') \n",
    "pos_x_wann_4 = np.loadtxt('behaviour/wann_pos_x_4.out', delimiter=',') \n",
    "\n",
    "pos_x_ns_5 = np.loadtxt('behaviour/ns_pos_x_5.out', delimiter=',') \n",
    "pos_x_fdm_5 = np.loadtxt('behaviour/fdm_pos_x_5.out', delimiter=',') \n",
    "pos_x_fdm_ns_5 = np.loadtxt('behaviour/fdm_ns_pos_x_5.out', delimiter=',') \n",
    "pos_x_wann_5 = np.loadtxt('behaviour/wann_pos_x_5.out', delimiter=',') \n",
    "\n",
    "pos_x_ns_6 = np.loadtxt('behaviour/ns_pos_x_6.out', delimiter=',') \n",
    "pos_x_fdm_6 = np.loadtxt('behaviour/fdm_pos_x_6.out', delimiter=',') \n",
    "pos_x_fdm_ns_6 = np.loadtxt('behaviour/fdm_ns_pos_x_6.out', delimiter=',') \n",
    "pos_x_wann_6 = np.loadtxt('behaviour/wann_pos_x_6.out', delimiter=',') \n",
    "\n",
    "pos_x_ns_7 = np.loadtxt('behaviour/ns_pos_x_7.out', delimiter=',') \n",
    "pos_x_fdm_7 = np.loadtxt('behaviour/fdm_pos_x_7.out', delimiter=',') \n",
    "pos_x_fdm_ns_7 = np.loadtxt('behaviour/fdm_ns_pos_x_7.out', delimiter=',') \n",
    "pos_x_wann_7 = np.loadtxt('behaviour/wann_pos_x_7.out', delimiter=',') \n",
    "\n",
    "pos_x_ns_8 = np.loadtxt('behaviour/ns_pos_x_0.out', delimiter=',') \n",
    "pos_x_fdm_8 = np.loadtxt('behaviour/fdm_pos_x_0.out', delimiter=',') \n",
    "pos_x_fdm_ns_8 = np.loadtxt('behaviour/fdm_ns_pos_x_0.out', delimiter=',') \n",
    "pos_x_wann_8 = np.loadtxt('behaviour/wann_pos_x_0.out', delimiter=',') "
   ]
  },
  {
   "cell_type": "code",
   "execution_count": 24,
   "id": "31caea3f",
   "metadata": {},
   "outputs": [
    {
     "data": {
      "text/plain": [
       "1.0"
      ]
     },
     "execution_count": 24,
     "metadata": {},
     "output_type": "execute_result"
    }
   ],
   "source": [
    "left = sum(pos_x_p_ns_2+pos_x_ns_2 > 0)\n",
    "right = sum(pos_x_p_ns_2+pos_x_ns_2 < 0)\n",
    "tmp = pos_y_p_ns_2 > 0\n",
    "j = 0\n",
    "count = 1\n",
    "for i in range(len(tmp)):\n",
    "    if j != i:\n",
    "        if tmp[j]!= tmp[i]: \n",
    "            j = i\n",
    "            count += 1 # couting transitions between below and obove horizontal line\n",
    "count/2 # times the pole move to an upward position"
   ]
  },
  {
   "cell_type": "code",
   "execution_count": 4,
   "id": "905b3abf",
   "metadata": {},
   "outputs": [
    {
     "data": {
      "text/plain": [
       "1"
      ]
     },
     "execution_count": 4,
     "metadata": {},
     "output_type": "execute_result"
    }
   ],
   "source": [
    "math.ceil(0.5)"
   ]
  },
  {
   "cell_type": "code",
   "execution_count": 17,
   "id": "ccb0174a",
   "metadata": {},
   "outputs": [
    {
     "name": "stdout",
     "output_type": "stream",
     "text": [
      "0\n",
      "70\n"
     ]
    }
   ],
   "source": [
    "print(left)\n",
    "print(right)"
   ]
  },
  {
   "cell_type": "code",
   "execution_count": 5,
   "id": "c1523c37",
   "metadata": {},
   "outputs": [],
   "source": [
    "value1 = np.array([1,2,3,4,5,6,7,8])\n",
    "value2 = np.array([2,2,30,4,5,6,7,8])"
   ]
  },
  {
   "cell_type": "code",
   "execution_count": 8,
   "id": "79af6513",
   "metadata": {},
   "outputs": [
    {
     "data": {
      "text/plain": [
       "array([ 0.30685282,  0.        , 20.09224472,  0.        ,  0.        ,\n",
       "        0.        ,  0.        ,  0.        ])"
      ]
     },
     "execution_count": 8,
     "metadata": {},
     "output_type": "execute_result"
    }
   ],
   "source": [
    "special.kl_div(value1, value2)"
   ]
  }
 ],
 "metadata": {
  "kernelspec": {
   "display_name": "Python 3",
   "language": "python",
   "name": "python3"
  },
  "language_info": {
   "codemirror_mode": {
    "name": "ipython",
    "version": 3
   },
   "file_extension": ".py",
   "mimetype": "text/x-python",
   "name": "python",
   "nbconvert_exporter": "python",
   "pygments_lexer": "ipython3",
   "version": "3.8.5"
  }
 },
 "nbformat": 4,
 "nbformat_minor": 5
}
