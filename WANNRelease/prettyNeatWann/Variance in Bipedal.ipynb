{
 "cells": [
  {
   "cell_type": "code",
   "execution_count": null,
   "id": "cathedral-murray",
   "metadata": {},
   "outputs": [],
   "source": []
  },
  {
   "cell_type": "code",
   "execution_count": null,
   "id": "collected-topic",
   "metadata": {},
   "outputs": [
    {
     "name": "stdout",
     "output_type": "stream",
     "text": [
      "Initializing population...\n",
      "/usr/local/lib/python3.9/site-packages/gym/logger.py:30: UserWarning: \u001b[33mWARN: Box bound precision lowered by casting to float32\u001b[0m\n",
      "  warnings.warn(colorize('%s: %s'%('WARN', msg % args), 'yellow'))\n",
      "0 \t |---| Elite Fit: 10.71 \t|---| Best Fit:  10.71 \t|---| Peak Fit:  29.43 \t|---| Best Var:  115.35\n",
      "1 \t |---| Elite Fit: 4.12 \t|---| Best Fit:  4.12 \t|---| Peak Fit:  23.40 \t|---| Best Var:  117.71\n"
     ]
    }
   ],
   "source": [
    "!python3 wann_train.py -n 1 -p p/biped_var.json -o var #.container { width:100% !important; }"
   ]
  },
  {
   "cell_type": "code",
   "execution_count": null,
   "id": "attended-teddy",
   "metadata": {},
   "outputs": [],
   "source": []
  }
 ],
 "metadata": {
  "kernelspec": {
   "display_name": "Python 3",
   "language": "python",
   "name": "python3"
  },
  "language_info": {
   "codemirror_mode": {
    "name": "ipython",
    "version": 3
   },
   "file_extension": ".py",
   "mimetype": "text/x-python",
   "name": "python",
   "nbconvert_exporter": "python",
   "pygments_lexer": "ipython3",
   "version": "3.9.1"
  }
 },
 "nbformat": 4,
 "nbformat_minor": 5
}
