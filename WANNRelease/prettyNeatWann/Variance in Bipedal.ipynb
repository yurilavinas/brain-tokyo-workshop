{
 "cells": [
  {
   "cell_type": "code",
   "execution_count": null,
   "id": "warming-moore",
   "metadata": {},
   "outputs": [],
   "source": [
    "# rm -r log/multi_var_*"
   ]
  },
  {
   "cell_type": "code",
   "execution_count": null,
   "id": "collected-topic",
   "metadata": {},
   "outputs": [
    {
     "name": "stdout",
     "output_type": "stream",
     "text": [
      "Initializing population...\n",
      "/usr/local/lib/python3.9/site-packages/gym/logger.py:30: UserWarning: \u001b[33mWARN: Box bound precision lowered by casting to float32\u001b[0m\n",
      "  warnings.warn(colorize('%s: %s'%('WARN', msg % args), 'yellow'))\n",
      "Traceback (most recent call last):\n",
      "  File \"/Users/yurilavinas/brain-tokyo-workshop/WANNRelease/prettyNeatWann/wann_train.py\", line 313, in <module>\n",
      "    main(args)              \n",
      "  File \"/Users/yurilavinas/brain-tokyo-workshop/WANNRelease/prettyNeatWann/wann_train.py\", line 287, in main\n",
      "    master()\n",
      "  File \"/Users/yurilavinas/brain-tokyo-workshop/WANNRelease/prettyNeatWann/wann_train.py\", line 48, in master\n",
      "    data = gatherData(data,alg,gen,init,hyp)\n",
      "  File \"/Users/yurilavinas/brain-tokyo-workshop/WANNRelease/prettyNeatWann/wann_train.py\", line 85, in gatherData\n",
      "    data.save(gen-diff)\n",
      "  File \"/Users/yurilavinas/brain-tokyo-workshop/WANNRelease/prettyNeatWann/neat_src/wann_dataGatherer.py\", line 113, in save\n",
      "    genStats = np.hstack((genStats, eval(evalString)))\n",
      "  File \"<__array_function__ internals>\", line 5, in hstack\n",
      "  File \"/usr/local/lib/python3.9/site-packages/numpy/core/shape_base.py\", line 346, in hstack\n",
      "    return _nx.concatenate(arrs, 1)\n",
      "  File \"<__array_function__ internals>\", line 5, in concatenate\n",
      "ValueError: all the input array dimensions for the concatenation axis must match exactly, but along dimension 0, the array at index 0 has size 1 and the array at index 1 has size 8\n"
     ]
    }
   ],
   "source": [
    "!python3 wann_train.py -n 1 -p p/biped_var_multi.json -o multi_var #.container { width:100% !important; }"
   ]
  },
  {
   "cell_type": "markdown",
   "id": "lovely-mentor",
   "metadata": {},
   "source": []
  }
 ],
 "metadata": {
  "kernelspec": {
   "display_name": "Python 3",
   "language": "python",
   "name": "python3"
  },
  "language_info": {
   "codemirror_mode": {
    "name": "ipython",
    "version": 3
   },
   "file_extension": ".py",
   "mimetype": "text/x-python",
   "name": "python",
   "nbconvert_exporter": "python",
   "pygments_lexer": "ipython3",
   "version": "3.9.1"
  }
 },
 "nbformat": 4,
 "nbformat_minor": 5
}
