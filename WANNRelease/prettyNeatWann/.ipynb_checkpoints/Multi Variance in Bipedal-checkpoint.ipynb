{
 "cells": [
  {
   "cell_type": "markdown",
   "id": "saving-plasma",
   "metadata": {},
   "source": [
    "rm -r log/multi_var_*"
   ]
  },
  {
   "cell_type": "code",
   "execution_count": 3,
   "id": "collected-topic",
   "metadata": {},
   "outputs": [
    {
     "name": "stdout",
     "output_type": "stream",
     "text": [
      "^C\r\n"
     ]
    }
   ],
   "source": [
    "!python3 wann_train.py -n 1 -p p/biped_var_multi.json -o multi_var #.container { width:100% !important; }"
   ]
  },
  {
   "cell_type": "markdown",
   "id": "separate-backing",
   "metadata": {},
   "source": []
  }
 ],
 "metadata": {
  "kernelspec": {
   "display_name": "Python 3",
   "language": "python",
   "name": "python3"
  },
  "language_info": {
   "codemirror_mode": {
    "name": "ipython",
    "version": 3
   },
   "file_extension": ".py",
   "mimetype": "text/x-python",
   "name": "python",
   "nbconvert_exporter": "python",
   "pygments_lexer": "ipython3",
   "version": "3.9.1"
  }
 },
 "nbformat": 4,
 "nbformat_minor": 5
}
