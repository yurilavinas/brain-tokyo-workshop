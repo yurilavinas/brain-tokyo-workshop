{
 "cells": [
  {
   "cell_type": "code",
   "execution_count": 1,
   "id": "ambient-history",
   "metadata": {},
   "outputs": [
    {
     "name": "stdout",
     "output_type": "stream",
     "text": [
      "\t*** Running with hyperparameters:  p/biped_mean.json \t***\n",
      "Initializing population...\n",
      "\t*** Running with hyperparameters:  p/biped_mean.json \t***\n",
      "/usr/local/lib/python3.9/site-packages/gym/logger.py:30: UserWarning: \u001b[33mWARN: Box bound precision lowered by casting to float32\u001b[0m\n",
      "  warnings.warn(colorize('%s: %s'%('WARN', msg % args), 'yellow'))\n",
      "0 \t |---| Elite Fit: 0.00 \t|---| Best Fit:  0.00 \t|---| Peak Fit:  0.00 \t|---| Best Var:  0.00\n",
      "wann sel.\n",
      "1 \t |---| Elite Fit: 0.00 \t|---| Best Fit:  0.00 \t|---| Peak Fit:  0.00 \t|---| Best Var:  0.00\n",
      "wann sel.\n",
      "2 \t |---| Elite Fit: 0.00 \t|---| Best Fit:  0.00 \t|---| Peak Fit:  0.00 \t|---| Best Var:  0.00\n",
      "wann sel.\n",
      "3 \t |---| Elite Fit: 0.00 \t|---| Best Fit:  0.00 \t|---| Peak Fit:  0.00 \t|---| Best Var:  0.00\n",
      "wann sel.\n",
      "4 \t |---| Elite Fit: 0.00 \t|---| Best Fit:  0.00 \t|---| Peak Fit:  0.00 \t|---| Best Var:  0.00\n",
      "wann sel.\n",
      "5 \t |---| Elite Fit: 0.00 \t|---| Best Fit:  0.00 \t|---| Peak Fit:  0.00 \t|---| Best Var:  0.00\n",
      "wann sel.\n",
      "6 \t |---| Elite Fit: 0.00 \t|---| Best Fit:  0.00 \t|---| Peak Fit:  0.00 \t|---| Best Var:  0.00\n",
      "wann sel.\n",
      "7 \t |---| Elite Fit: 0.00 \t|---| Best Fit:  0.00 \t|---| Peak Fit:  0.00 \t|---| Best Var:  0.00\n",
      "wann sel.\n",
      "8 \t |---| Elite Fit: 0.00 \t|---| Best Fit:  0.00 \t|---| Peak Fit:  0.00 \t|---| Best Var:  0.00\n",
      "wann sel.\n",
      "9 \t |---| Elite Fit: 0.00 \t|---| Best Fit:  0.00 \t|---| Peak Fit:  0.00 \t|---| Best Var:  0.00\n",
      "wann sel.\n",
      "10 \t |---| Elite Fit: 0.00 \t|---| Best Fit:  0.00 \t|---| Peak Fit:  0.00 \t|---| Best Var:  0.00\n",
      "wann sel.\n",
      "11 \t |---| Elite Fit: 0.00 \t|---| Best Fit:  0.00 \t|---| Peak Fit:  0.00 \t|---| Best Var:  0.00\n",
      "wann sel.\n",
      "12 \t |---| Elite Fit: 0.00 \t|---| Best Fit:  0.00 \t|---| Peak Fit:  0.00 \t|---| Best Var:  0.00\n",
      "wann sel.\n",
      "13 \t |---| Elite Fit: 0.00 \t|---| Best Fit:  0.00 \t|---| Peak Fit:  0.00 \t|---| Best Var:  0.00\n",
      "wann sel.\n",
      "14 \t |---| Elite Fit: 0.00 \t|---| Best Fit:  0.00 \t|---| Peak Fit:  0.00 \t|---| Best Var:  0.00\n",
      "wann sel.\n",
      "15 \t |---| Elite Fit: 0.00 \t|---| Best Fit:  0.00 \t|---| Peak Fit:  0.00 \t|---| Best Var:  0.00\n",
      "wann sel.\n",
      "16 \t |---| Elite Fit: 0.00 \t|---| Best Fit:  0.00 \t|---| Peak Fit:  0.00 \t|---| Best Var:  0.00\n",
      "wann sel.\n",
      "17 \t |---| Elite Fit: 0.00 \t|---| Best Fit:  0.00 \t|---| Peak Fit:  0.00 \t|---| Best Var:  0.00\n",
      "wann sel.\n",
      "18 \t |---| Elite Fit: 0.00 \t|---| Best Fit:  0.00 \t|---| Peak Fit:  0.00 \t|---| Best Var:  0.00\n",
      "wann sel.\n",
      "19 \t |---| Elite Fit: 0.00 \t|---| Best Fit:  0.00 \t|---| Peak Fit:  0.00 \t|---| Best Var:  0.00\n",
      "wann sel.\n",
      "20 \t |---| Elite Fit: 0.00 \t|---| Best Fit:  0.00 \t|---| Peak Fit:  0.00 \t|---| Best Var:  0.00\n",
      "wann sel.\n",
      "^C\n"
     ]
    }
   ],
   "source": [
    "!python3 wann_train.py -n 1 -p p/biped_mean.json -o mean #.container { width:100% !important; }"
   ]
  }
 ],
 "metadata": {
  "kernelspec": {
   "display_name": "Python 3",
   "language": "python",
   "name": "python3"
  },
  "language_info": {
   "codemirror_mode": {
    "name": "ipython",
    "version": 3
   },
   "file_extension": ".py",
   "mimetype": "text/x-python",
   "name": "python",
   "nbconvert_exporter": "python",
   "pygments_lexer": "ipython3",
   "version": "3.9.1"
  }
 },
 "nbformat": 4,
 "nbformat_minor": 5
}
